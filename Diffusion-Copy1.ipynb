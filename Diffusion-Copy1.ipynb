{
 "cells": [
  {
   "cell_type": "markdown",
   "metadata": {},
   "source": [
    "##From [2013-12-03-Crank_Nicolson](http://nbviewer.ipython.org/github/waltherg/notebooks/blob/master/2013-12-03-Crank_Nicolson.ipynb)"
   ]
  },
  {
   "cell_type": "markdown",
   "metadata": {},
   "source": [
    "# The Crank-Nicolson Method"
   ]
  },
  {
   "cell_type": "markdown",
   "metadata": {},
   "source": [
    "The [Crank-Nicolson method](http://en.wikipedia.org/wiki/Crank%E2%80%93Nicolson_method) is a well-known finite difference method for the\n",
    "numerical integration of the heat equation and closely related partial differential equations.\n",
    "\n",
    "We often resort to a Crank-Nicolson (CN) scheme when we integrate numerically reaction-diffusion systems in one space dimension\n",
    "\n",
    "$$\\frac{\\partial u}{\\partial t} = D \\frac{\\partial^2 u}{\\partial x^2} + f(u),$$\n",
    "\n",
    "$$\\frac{\\partial u}{\\partial x}\\Bigg|_{x = 0, L} = 0,$$\n",
    "\n",
    "where $u$ is our concentration variable, $x$ is the space variable, $D$ is the diffusion coefficient of $u$, $f$ is the reaction term,\n",
    "and $L$ is the length of our one-dimensional space domain.\n",
    "\n",
    "Note that we use [Neumann boundary conditions](http://en.wikipedia.org/wiki/Neumann_boundary_condition) and specify that the solution\n",
    "$u$ has zero space slope at the boundaries, effectively prohibiting entrance or exit of material at the boundaries (no-flux boundary conditions)."
   ]
  },
  {
   "cell_type": "markdown",
   "metadata": {},
   "source": [
    "## Finite Difference Methods"
   ]
  },
  {
   "cell_type": "markdown",
   "metadata": {},
   "source": [
    "Many fantastic textbooks and tutorials have been written about finite difference methods, for instance a free textbook by\n",
    "[Lloyd Trefethen](http://people.maths.ox.ac.uk/trefethen/pdetext.html).\n",
    "\n",
    "Here we describe a few basic aspects of finite difference methods.\n",
    "\n",
    "The above reaction-diffusion equation describes the time evolution of variable $u(x,t)$ in one space dimension ($u$ is a line concentration).\n",
    "If we knew an analytic expression for $u(x,t)$ then we could plot $u$ in a two-dimensional coordinate system with axes $t$ and $x$.\n",
    "\n",
    "To approximate $u(x,t)$ numerically we discretize this two-dimensional coordinate system resulting, in the simplest case, in a\n",
    "two-dimensional [regular grid](http://en.wikipedia.org/wiki/Regular_grid).\n",
    "This picture is employed commonly when constructing finite differences methods, see for instance \n",
    "[Figure 3.2.1 of Trefethen](http://people.maths.ox.ac.uk/trefethen/3all.pdf).\n",
    "\n",
    "Let us discretize both time and space as follows:\n",
    "\n",
    "$$t_n = n \\Delta t,~ n = 0, \\ldots, N-1,$$\n",
    "\n",
    "$$x_j = j \\Delta x,~ j = 0, \\ldots, J-1,$$\n",
    "\n",
    "where $N$ and $J$ are the number of discrete time and space points in our grid respectively.\n",
    "$\\Delta t$ and $\\Delta x$ are the time step and space step respectively and defined as follows:\n",
    "\n",
    "$$\\Delta t = T / N,$$\n",
    "\n",
    "$$\\Delta x = L / J,$$\n",
    "\n",
    "where $T$ is the point in time up to which we will integrate $u$ numerically.\n",
    "\n",
    "Our ultimate goal is to construct a numerical method that allows us to approximate the unknonwn analytic solution $u(x,t)$\n",
    "reasonably well in these discrete grid points.\n",
    "\n",
    "That is we want construct a method that computes values $U(j \\Delta x, n \\Delta t)$ (note: capital $U$) so that\n",
    "\n",
    "$$U(j \\Delta x, n \\Delta t) \\approx u(j \\Delta x, n \\Delta t)$$\n",
    "\n",
    "As a shorthand we will write $U_j^n = U(j \\Delta x, n \\Delta t)$ and $(j,n)$ to refer to grid point $(j \\Delta x, n \\Delta t)$."
   ]
  },
  {
   "cell_type": "markdown",
   "metadata": {},
   "source": [
    "## The Crank-Nicolson Stencil"
   ]
  },
  {
   "cell_type": "markdown",
   "metadata": {},
   "source": [
    "$$\\frac{\\partial u}{\\partial t}\\Bigg|_{x = j \\Delta x, t = n \\Delta t} \\approx \\frac{U_j^{n+1} - U_j^n}{\\Delta t}.$$"
   ]
  },
  {
   "cell_type": "markdown",
   "metadata": {},
   "source": [
    "Based on the two-dimensional grid we construct we then approximate the operators of our reaction-diffusion system.\n",
    "\n",
    "For instance, to approximate the time derivative on the left-hand side in grid point $(j,n)$ we use the values of $U$ in two specific grid points:\n",
    "\n",
    "$$\\frac{\\partial u}{\\partial t}\\Bigg|_{x = j \\Delta x, t = n \\Delta t} \\approx \\frac{U_j^{n+1} - U_j^n}{\\Delta t}.$$\n",
    "\n",
    "We can think of this scheme as a stencil that we superimpose on our $(x,t)$-grid and this particular stencil is\n",
    "commonly referred to as [forward difference](http://en.wikipedia.org/wiki/Finite_difference#Forward.2C_backward.2C_and_central_differences).\n",
    "\n",
    "The spatial part of the [Crank-Nicolson stencil](http://journals.cambridge.org/abstract_S0305004100023197)\n",
    "(or see [Table 3.2.2 of Trefethen](http://people.maths.ox.ac.uk/trefethen/3all.pdf))\n",
    "for the heat equation ($u_t = u_{xx}$) approximates the \n",
    "[Laplace operator](http://en.wikipedia.org/wiki/Laplace_operator) of our equation and takes the following form\n",
    "\n",
    "$$\\frac{\\partial^2 u}{\\partial x^2}\\Bigg|_{x = j \\Delta x, t = n \\Delta t} \\approx \\frac{1}{2 \\Delta x^2} \\left( U_{j+1}^n - 2 U_j^n + U_{j-1}^n + U_{j+1}^{n+1} - 2 U_j^{n+1} + U_{j-1}^{n+1}\\right).$$\n",
    "\n",
    "To approximate $f(u(j \\Delta x, n \\Delta t))$ we write simply $f(U_j^n)$.\n",
    "\n",
    "These approximations define the stencil for our numerical method as pictured on [Wikipedia](http://en.wikipedia.org/wiki/Crank%E2%80%93Nicolson_method).\n",
    "\n",
    "![SVG](https://dl.dropboxusercontent.com/u/129945779/georgio/CN-stencil.svg)\n",
    "\n",
    "Applying this stencil to grid point $(j,n)$ gives us the following approximation of our reaction-diffusion equation:\n",
    "\n",
    "$$\\frac{U_j^{n+1} - U_j^n}{\\Delta t} = \\frac{D}{2 \\Delta x^2} \\left( U_{j+1}^n - 2 U_j^n + U_{j-1}^n + U_{j+1}^{n+1} - 2 U_j^{n+1} + U_{j-1}^{n+1}\\right) + f(U_j^n).$$\n",
    "\n",
    "In my case:\n",
    "$$\\frac{U_j^{n+1} - U_j^n}{\\Delta t} = \\frac{D}{2 \\Delta x^2} \\left( U_{j+1}^n - 2 U_j^n + U_{j-1}^n + U_{j+1}^{n+1} - 2 U_j^{n+1} + U_{j-1}^{n+1}\\right).$$\n",
    "\n",
    " "
   ]
  },
  {
   "cell_type": "markdown",
   "metadata": {},
   "source": [
    "## Reordering Stencil into Linear System"
   ]
  },
  {
   "cell_type": "markdown",
   "metadata": {},
   "source": [
    "<font color = 'green'>\n",
    "They:\n",
    "$$ \\frac{\\partial U}{\\partial t}\\Bigg|_{x=0,L} = 0$$\n",
    "</font>\n",
    "\n",
    "<font color = 'red'> In my case: \n",
    "Краевая задача третьего типа по Цветкову:\n",
    "$$ -D \\frac{\\partial n}{\\partial x}\\Bigg|_{x=0} = f_1(n(0,t), t) $$\n",
    "Где $f_1(n(0,t),t) = \\Gamma_{inc} - k_u u^2(0,t)$\n",
    "\n",
    "\n",
    "Upstream membrane surface (in the QUEST)\n",
    "$$\n",
    "\\Gamma_{inc} = k_uu^2(0,t) - D \\frac{\\partial u(x,t)}{\\partial x}|_{x=0}\n",
    "$$\n",
    "Downstream membrane surface (to QMS)\n",
    "$$\n",
    "0 = k_d u^2(L,t) + D \\frac{\\partial u(x,t)}{\\partial x}|_{x=L}\n",
    "$$\n",
    "j - space n - time\n",
    "\n",
    "$$ \\Gamma_{inc}^n - k_u U_0^{n2} + D\\frac{U_1^n - U_0^n}{\\Delta x} = 0,\n",
    "$$\n",
    "\n",
    "$$\n",
    "k_d U_J^{n2} + D\\frac{U_J^n - U_{J-1}^n}{\\Delta x} = 0\n",
    "$$\n",
    "\n",
    "</font>\n",
    "\n",
    "<font color = 'green'> \n",
    "$$\n",
    "U_0^{n+1} = -\\frac{D}{2k_u\\Delta x} + \\frac{1}{2} \\sqrt{\\Big(\\frac{D}{k_u \\Delta x}\\Big)^2 + \\frac{4DU_1^n}{k_u \\Delta x} + \\frac{4\\Gamma_{inc}^n}{k_u}}\n",
    "$$\n",
    "$$\n",
    "U_{J-1}^{n+1} = -\\frac{D}{2k_d\\Delta x} + \\frac{1}{2} \\sqrt{\\Big(\\frac{D}{k_d \\Delta x}\\Big)^2 + \\frac{4DU_{J-2}^n}{k_d \\Delta x}}\n",
    "$$\n",
    "</font>"
   ]
  },
  {
   "cell_type": "markdown",
   "metadata": {},
   "source": [
    "Let us define $\\sigma = \\frac{D \\Delta t}{2 \\Delta x^2}$ and reorder the above approximation of our reaction-diffusion equation:\n",
    "\n",
    "$$-\\sigma U_{j-1}^{n+1} + (1+2\\sigma) U_j^{n+1} -\\sigma U_{j+1}^{n+1} = \\sigma U_{j-1}^n + (1-2\\sigma) U_j^n + \\sigma U_{j+1}^n + \\Delta t f(U_j^n).$$\n",
    "\n",
    "<font color = 'blue'> This equation makes sense for space indices $j = 1,\\ldots,J-2$ but it does not make sense for indices $j=0$ and $j=J-1$ (on the boundaries) </font>:\n",
    "\n",
    "$$j=0:~-\\sigma U_{-1}^{n+1} + (1+2\\sigma) U_0^{n+1} -\\sigma U_{1}^{n+1} = \\sigma U_{-1}^n + (1-2\\sigma) U_0^n + \\sigma U_{1}^n + \\Delta t f(U_0^n),$$\n",
    "\n",
    "$$j=J-1:~-\\sigma U_{J-2}^{n+1} + (1+2\\sigma) U_{J-1}^{n+1} -\\sigma U_{J}^{n+1} = \\sigma U_{J-2}^n + (1-2\\sigma) U_{J-1}^n + \\sigma U_{J}^n + \\Delta t f(U_{J-1}^n).$$\n",
    "\n",
    "The problem here is that the values $U_{-1}^n$ and $U_J^n$ lie outside our grid.\n",
    "\n",
    "However, we can work out what these values should equal by considering our Neumann boundary condition.\n",
    "Let us discretize our boundary condition at $j=0$ with the \n",
    "[backward difference](http://en.wikipedia.org/wiki/Finite_difference#Forward.2C_backward.2C_and_central_differences) and\n",
    "at $j=J-1$ with the\n",
    "[forward difference](http://en.wikipedia.org/wiki/Finite_difference#Forward.2C_backward.2C_and_central_differences):\n",
    "\n",
    "$$\\frac{U_1^n - U_0^n}{\\Delta x} = 0,$$\n",
    "\n",
    "$$\\frac{U_J^n - U_{J-1}^n}{\\Delta x} = 0.$$\n",
    "\n",
    "These two equations make it clear that we need to amend our above numerical approximation for\n",
    "$j=0$ with the identities $U_0^n = U_1^n$ and $U_0^{n+1} = U_1^{n+1}$, and\n",
    "for $j=J-1$ with the identities $U_{J-1}^n = U_J^n$ and $U_{J-1}^{n+1} = U_J^{n+1}$.\n",
    "\n",
    "Let us reinterpret our numerical approximation of the line concentration of $u$ in a fixed point in time as a vector $\\mathbf{U}^n$:\n",
    "\n",
    "$$\\mathbf{U}^n = \n",
    "\\begin{bmatrix} U_0^n \\\\ \\vdots \\\\ U_{J-1}^n \\end{bmatrix}.$$\n",
    "\n",
    "Using this notation we can now write our above approximation for a fixed point in time, $t = n \\Delta t$, compactly as a linear system:\n",
    "\n",
    "$$\n",
    "\\begin{bmatrix}\n",
    "1 & 0 & 0 & 0 & 0 & \\cdots & 0 & 0 & 0 & 0\\\\\n",
    "-\\sigma & 1+2\\sigma & -\\sigma & 0 & 0 & \\cdots & 0 & 0 & 0 & 0 \\\\\n",
    "0 & -\\sigma & 1+2\\sigma & -\\sigma & \\cdots & 0 & 0 & 0 & 0 & 0 \\\\\n",
    "0 & 0 & \\ddots & \\ddots & \\ddots & \\ddots & 0 & 0 & 0 & 0 \\\\\n",
    "0 & 0 & 0 & 0 & 0 & 0 & 0 & -\\sigma & 1+2\\sigma & -\\sigma \\\\\n",
    "0 & 0 & 0 & 0 & 0 & 0 & 0 & 0 & 0 & 1\n",
    "\\end{bmatrix}\n",
    "\\begin{bmatrix}\n",
    "U_0^{n+1} \\\\\n",
    "U_1^{n+1} \\\\\n",
    "U_2^{n+1} \\\\\n",
    "\\vdots \\\\\n",
    "U_{J-2}^{n+1} \\\\\n",
    "U_{J-1}^{n+1}\n",
    "\\end{bmatrix} =\n",
    "\\begin{bmatrix}\n",
    "0 & 0 & 0 & 0 & 0 & \\cdots & 0 & 0 & 0 & 0\\\\\n",
    "\\sigma & 1-2\\sigma & \\sigma & 0 & 0 & \\cdots & 0 & 0 & 0 & 0 \\\\\n",
    "0 & \\sigma & 1-2\\sigma & \\sigma & \\cdots & 0 & 0 & 0 & 0 & 0 \\\\\n",
    "0 & 0 & \\ddots & \\ddots & \\ddots & \\ddots & 0 & 0 & 0 & 0 \\\\\n",
    "0 & 0 & 0 & 0 & 0 & 0 & 0 & \\sigma & 1-2\\sigma & \\sigma \\\\\n",
    "0 & 0 & 0 & 0 & 0 & 0 & 0 & 0 & 0 & 0\n",
    "\\end{bmatrix}\n",
    "\\begin{bmatrix}\n",
    "U_0^{n} \\\\\n",
    "U_1^{n} \\\\\n",
    "U_2^{n} \\\\\n",
    "\\vdots \\\\\n",
    "U_{J-2}^{n} \\\\\n",
    "U_{J-1}^{n}\n",
    "\\end{bmatrix} +\n",
    "\\begin{bmatrix}\n",
    "f(U_1^n) \\\\\n",
    "0 \\\\\n",
    "0 \\\\\n",
    "\\vdots \\\\\n",
    "0 \\\\\n",
    "g(U_{J-2}^n)\n",
    "\\end{bmatrix}.\n",
    "$$\n",
    "\n",
    "Note that since our numerical integration starts with a well-defined initial condition at $n=0$, $\\mathbf{U}^0$, the\n",
    "vector $\\mathbf{U}^{n+1}$ on the left-hand side is the only unknown in this system of linear equations.\n",
    "\n",
    "Thus, to integrate numerically our reaction-diffusion system from time point $n$ to $n+1$ we need to solve numerically for vector $\\mathbf{U}^{n+1}$.\n",
    "\n",
    "Let us call the matrix on the left-hand side $A$, the one on the right-hand side $B$,\n",
    "and the vector on the right-hand side $\\mathbf{f}^n$.\n",
    "Using this notation we can write the above system as\n",
    "\n",
    "$$A \\mathbf{U}^{n+1} = B \\mathbf{U}^n + f^n.$$\n",
    "\n",
    "In this linear equation, matrices $A$ and $B$ are defined by our problem: we need to specify these matrices once for our\n",
    "problem and incorporate our boundary conditions in them.\n",
    "Vector $\\mathbf{f}^n$ is a function of $\\mathbf{U}^n$ and so needs to be reevaluated in every time point $n$.\n",
    "We also need to carry out one matrix-vector multiplication every time point, $B \\mathbf{U}^n$, and\n",
    "one vector-vector addition, $B \\mathbf{U}^n + f^n$.\n",
    "\n",
    "The most expensive numerical operation is inversion of matrix $A$ to solve for $\\mathbf{U}^{n+1}$, however we may\n",
    "get away with doing this only once and store the inverse of $A$ as $A^{-1}$:\n",
    "\n",
    "$$\\mathbf{U}^{n+1} = A^{-1} \\left( B \\mathbf{U}^n + f^n \\right).$$"
   ]
  },
  {
   "cell_type": "markdown",
   "metadata": {},
   "source": [
    "## A Crank-Nicolson Example in Python"
   ]
  },
  {
   "cell_type": "markdown",
   "metadata": {},
   "source": [
    "Let us apply the CN method to a two-variable reaction-diffusion system that was introduced by \n",
    "[Mori *et al.*](http://www.sciencedirect.com/science/article/pii/S0006349508704442):\n",
    "\n",
    "$$\\frac{\\partial u}{\\partial t} = D_u \\frac{\\partial^2 u}{\\partial x^2} + f(u,v),$$\n",
    "\n",
    "$$\\frac{\\partial v}{\\partial t} = D_v \\frac{\\partial^2 v}{\\partial x^2} - f(u,v),$$\n",
    "\n",
    "with Neumann boundary conditions\n",
    "\n",
    "$$\\frac{\\partial u}{\\partial x}\\Bigg|_{x=0,L} = 0,$$\n",
    "\n",
    "$$\\frac{\\partial v}{\\partial x}\\Bigg|_{x=0,L} = 0.$$\n",
    "\n",
    "The variables of this system, $u$ and $v$, represent the concetrations of the active form and its inactive form respectively.\n",
    "The reaction term $f(u,v)$ describes the interchange (activation and inactivation) between these two states of the protein.\n",
    "A particular property of this system is that the inactive has much greater diffusivity that the active form, $D_v \\gg D_u$.\n",
    "\n",
    "Using the CN method to integrate this system numerically, we need to set up two separate approximations\n",
    "\n",
    "$$A_u \\mathbf{U}^{n+1} = B_u \\mathbf{U}^n + \\mathbf{f}^n,$$\n",
    "\n",
    "$$A_v \\mathbf{V}^{n+1} = B_v \\mathbf{V}^n - \\mathbf{f}^n,$$\n",
    "\n",
    "with two different $\\sigma$ terms, $\\sigma_u = \\frac{D_u \\Delta t}{2 \\Delta x^2}$ and $\\sigma_v = \\frac{D_v \\Delta t}{2 \\Delta x^2}$."
   ]
  },
  {
   "cell_type": "markdown",
   "metadata": {},
   "source": [
    "### Import Packages"
   ]
  },
  {
   "cell_type": "markdown",
   "metadata": {},
   "source": [
    "For the matrix-vector multiplication, vector-vector addition, and matrix inversion that we will need to carry\n",
    "out we will use the Python library [NumPy](http://www.numpy.org/).\n",
    "To visualize our numerical solutions, we will use [pyplot](http://matplotlib.org/api/pyplot_api.html)."
   ]
  },
  {
   "cell_type": "code",
   "execution_count": 1,
   "metadata": {
    "collapsed": false,
    "jupyter": {
     "outputs_hidden": false
    }
   },
   "outputs": [
    {
     "name": "stdout",
     "output_type": "stream",
     "text": [
      "Populating the interactive namespace from numpy and matplotlib\n"
     ]
    }
   ],
   "source": [
    "import numpy\n",
    "%pylab inline\n",
    "import matplotlib as mpl\n",
    "mpl.rc(\"savefig\", dpi=120)"
   ]
  },
  {
   "cell_type": "code",
   "execution_count": 2,
   "metadata": {
    "collapsed": false,
    "jupyter": {
     "outputs_hidden": false
    }
   },
   "outputs": [],
   "source": [
    "numpy.set_printoptions(precision=3)"
   ]
  },
  {
   "cell_type": "markdown",
   "metadata": {},
   "source": [
    "###Specify System parameters"
   ]
  },
  {
   "cell_type": "code",
   "execution_count": 3,
   "metadata": {
    "collapsed": false,
    "jupyter": {
     "outputs_hidden": false
    }
   },
   "outputs": [],
   "source": [
    "L = .1 # Material length\n",
    "J = 100 # Number of coordinate grid points\n",
    "dx = float(L)/float(J-1) # Grid parameter\n",
    "x_grid = numpy.array([j*dx for j in range(J)]) # Grid"
   ]
  },
  {
   "cell_type": "code",
   "execution_count": 4,
   "metadata": {},
   "outputs": [],
   "source": [
    "T = 1 # Time\n",
    "N = 100 # Iterations\n",
    "dt = float(T)/float(N-1) # Time step\n",
    "t_grid = numpy.array([n*dt for n in range(N)]) # Time grid"
   ]
  },
  {
   "cell_type": "code",
   "execution_count": 5,
   "metadata": {
    "collapsed": false,
    "jupyter": {
     "outputs_hidden": false
    }
   },
   "outputs": [
    {
     "name": "stdout",
     "output_type": "stream",
     "text": [
      "4.95\n"
     ]
    }
   ],
   "source": [
    "D_u = 1e-3 # Diffusion coeffitient for U\n",
    "sigma_u = float(D_u*dt)/float((2.*dx*dx))\n",
    "print sigma_u"
   ]
  },
  {
   "cell_type": "markdown",
   "metadata": {},
   "source": [
    "###Specify the initial Condition\n",
    "Initial concentration profile."
   ]
  },
  {
   "cell_type": "code",
   "execution_count": 6,
   "metadata": {
    "collapsed": false,
    "jupyter": {
     "outputs_hidden": false
    }
   },
   "outputs": [],
   "source": [
    "U = np.array([0.1 for i in range(int(0.2*J))] + [1 for i in range(int(0.2*J),int(0.5*J))] + [0.1 for i in range(int(0.5*J),J)] )"
   ]
  },
  {
   "cell_type": "code",
   "execution_count": 7,
   "metadata": {
    "collapsed": false,
    "jupyter": {
     "outputs_hidden": false
    }
   },
   "outputs": [
    {
     "data": {
      "image/png": "[encoded data removed]",
      "text/plain": [
       "<Figure size 432x288 with 1 Axes>"
      ]
     },
     "metadata": {
      "needs_background": "light"
     },
     "output_type": "display_data"
    }
   ],
   "source": [
    "ylim((-0.1, 2.1))\n",
    "xlabel('x'); ylabel('concentration')\n",
    "plot(x_grid, U)\n",
    "show()"
   ]
  },
  {
   "cell_type": "code",
   "execution_count": 8,
   "metadata": {
    "collapsed": false,
    "jupyter": {
     "outputs_hidden": false
    }
   },
   "outputs": [],
   "source": [
    "def f_vec(U,ti):\n",
    "    upstream =  -D_u/(2.*k_u*dx) + 0.5*sqrt((D_u/(k_u*dx))**2 + 4*D_u*U[1]/(k_u*dx) + 4*g_inc[ti-1]/k_u)\n",
    "    downstream = -D_u/(2.*k_d*dx) + 0.5*sqrt((D_u/(k_d*dx))**2 + 4*D_u*U[-1]/(k_d*dx))\n",
    "    return upstream, downstream"
   ]
  },
  {
   "cell_type": "markdown",
   "metadata": {},
   "source": [
    "###Create Matrices"
   ]
  },
  {
   "cell_type": "code",
   "execution_count": 9,
   "metadata": {
    "collapsed": false,
    "jupyter": {
     "outputs_hidden": false
    }
   },
   "outputs": [],
   "source": [
    "A_u = numpy.diagflat([-sigma_u for i in range(J-1)], -1) +\\\n",
    "      numpy.diagflat([1.+sigma_u]+[1.+2.*sigma_u for i in range(J-2)]+[1.+sigma_u]) +\\\n",
    "      numpy.diagflat([-sigma_u for i in range(J-1)], 1)\n",
    "        \n",
    "B_u = numpy.diagflat([sigma_u for i in range(J-1)], -1) +\\\n",
    "      numpy.diagflat([1.-sigma_u]+[1.-2.*sigma_u for i in range(J-2)]+[1.-sigma_u]) +\\\n",
    "      numpy.diagflat([sigma_u for i in range(J-1)], 1)"
   ]
  },
  {
   "cell_type": "markdown",
   "metadata": {},
   "source": [
    "###Solve the System iteratively"
   ]
  },
  {
   "cell_type": "code",
   "execution_count": 10,
   "metadata": {
    "collapsed": false,
    "jupyter": {
     "outputs_hidden": false
    }
   },
   "outputs": [],
   "source": [
    "U_record = []\n",
    "\n",
    "U_record.append(U)\n",
    "\n",
    "for ti in range(1,N):\n",
    "    U_new = numpy.linalg.solve(A_u, B_u.dot(U))\n",
    "    \n",
    "    U = U_new\n",
    "    \n",
    "    U_record.append(U)"
   ]
  },
  {
   "cell_type": "markdown",
   "metadata": {},
   "source": [
    "###Plot the Numerical Solution\n",
    "Let us take a look at the numerical solution we attain after N time steps."
   ]
  },
  {
   "cell_type": "code",
   "execution_count": 11,
   "metadata": {
    "collapsed": false,
    "jupyter": {
     "outputs_hidden": false
    }
   },
   "outputs": [
    {
     "data": {
      "image/png": "[encoded data removed]",
      "text/plain": [
       "<Figure size 432x288 with 1 Axes>"
      ]
     },
     "metadata": {
      "needs_background": "light"
     },
     "output_type": "display_data"
    }
   ],
   "source": [
    "#ylim((-0.1, 2.1))\n",
    "xlabel('x'); ylabel('concentration')\n",
    "t1 = T*0.1; t2 = T*0.2; t3 = T*0.7\n",
    "plot(x_grid, U_record[0],label = 't = %.1f'% t_grid[0])\n",
    "plot(x_grid, U_record[int(t1/dt)],label = 't = %.1f'% t_grid[int(t1/dt)])\n",
    "plot(x_grid, U_record[int(t2/dt)],label = 't = %.1f'% t_grid[int(t2/dt)])\n",
    "plot(x_grid, U_record[int(t3/dt)],label = 't = %.1f'% t_grid[int(t3/dt)])\n",
    "plot(x_grid, U,label = 't = %.1f'% t_grid[-1])\n",
    "legend(framealpha = 0.8)\n",
    "margins(0.1)\n",
    "show()"
   ]
  },
  {
   "cell_type": "code",
   "execution_count": 12,
   "metadata": {
    "collapsed": false,
    "jupyter": {
     "outputs_hidden": false
    }
   },
   "outputs": [
    {
     "data": {
      "image/png": "[encoded data removed]",
      "text/plain": [
       "<Figure size 432x288 with 2 Axes>"
      ]
     },
     "metadata": {
      "needs_background": "light"
     },
     "output_type": "display_data"
    }
   ],
   "source": [
    "U_r = np.array(U_record)\n",
    "p = pcolor(x_grid,t_grid, U_r, vmin=abs(U_r).min(),cmap = 'jet')\n",
    "#vmax=.5\n",
    "xlabel('$x$'); ylabel('$t$')\n",
    "cb = colorbar(p)"
   ]
  },
  {
   "cell_type": "code",
   "execution_count": 13,
   "metadata": {
    "collapsed": false,
    "jupyter": {
     "outputs_hidden": false
    }
   },
   "outputs": [
    {
     "data": {
      "text/plain": [
       "[<matplotlib.lines.Line2D at 0x209c5278>]"
      ]
     },
     "execution_count": 13,
     "metadata": {},
     "output_type": "execute_result"
    },
    {
     "data": {
      "image/png": "[encoded data removed]",
      "text/plain": [
       "<Figure size 432x288 with 1 Axes>"
      ]
     },
     "metadata": {
      "needs_background": "light"
     },
     "output_type": "display_data"
    }
   ],
   "source": [
    "plot(t_grid,U_r[:,-1])\n",
    "plot(t_grid,U_r[:,0])"
   ]
  }
 ],
 "metadata": {
  "kernelspec": {
   "display_name": "Python 2",
   "language": "python",
   "name": "python2"
  },
  "language_info": {
   "codemirror_mode": {
    "name": "ipython",
    "version": 2
   },
   "file_extension": ".py",
   "mimetype": "text/x-python",
   "name": "python",
   "nbconvert_exporter": "python",
   "pygments_lexer": "ipython2",
   "version": "2.7.10"
  }
 },
 "nbformat": 4,
 "nbformat_minor": 4
}
