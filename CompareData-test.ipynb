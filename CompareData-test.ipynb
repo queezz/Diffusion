{
 "cells": [
  {
   "cell_type": "code",
   "execution_count": null,
   "metadata": {},
   "outputs": [],
   "source": [
    "%pylab inline"
   ]
  },
  {
   "cell_type": "code",
   "execution_count": null,
   "metadata": {
    "collapsed": false,
    "jupyter": {
     "outputs_hidden": false
    }
   },
   "outputs": [],
   "source": [
    "numpy.set_printoptions(precision=1)"
   ]
  },
  {
   "cell_type": "code",
   "execution_count": null,
   "metadata": {
    "collapsed": false,
    "jupyter": {
     "outputs_hidden": false
    }
   },
   "outputs": [],
   "source": [
    "be = os.path.join(os.path.expanduser('~'),'Desktop','Stencils','BE_pdp.txt')\n",
    "t7 = os.path.join(os.path.expanduser('~'),'Desktop','Stencils','t7_pdp.txt')\n",
    "databe = np.loadtxt(be)\n",
    "datat7 = np.loadtxt(t7)\n",
    "plot(databe[:,0],databe[:,1],'--',lw=2,label = 'BE')\n",
    "plot(datat7[:,0],datat7[:,1],'-',lw=1,label = 'TMAP7')\n",
    "legend(framealpha=.8,fontsize = 12)\n",
    "xlabel('time (sec)',fontweight = 'heavy')\n",
    "ylabel('$\\Gamma_{pdp}$ ($atom/(m^{2}sec)$',fontweight = 'heavy')\n",
    "ylim(0,5.2e18)\n",
    "font = {'family':'Times New Roman','weight':'heavy','size': 18}\n",
    "plt.rc('font',**font)\n",
    "plt.rcParams.update({'mathtext.default':  'regular' })\n",
    "\n",
    "ax = gca()\n",
    "ax.text(.2,.3,'$K_u = K_d = 10^{-33}m^4/s$ \\n$\\Gamma_{inc} = 10^{19} atom/(m^2s)$',transform  = ax.transAxes)\n",
    "\n",
    "sf = os.path.join(os.path.expanduser('~'),'Desktop','Stencils','compare-1.png')\n",
    "plt.savefig(sf,dpi=300,bbox_inches = 'tight')"
   ]
  },
  {
   "cell_type": "markdown",
   "metadata": {},
   "source": [
    "# TMAP7 x-grid"
   ]
  },
  {
   "cell_type": "code",
   "execution_count": null,
   "metadata": {
    "collapsed": false,
    "jupyter": {
     "outputs_hidden": false
    }
   },
   "outputs": [],
   "source": [
    "x = [(i+1)*1e-9 for i in range(10)]\n",
    "x+=[x[-1]+(i+1)*1e-8 for i in range(10)]\n",
    "x+=[x[-1]+(i+1)*1e-7 for i in range(10)] \n",
    "x+=[x[-1]+(i+1)*9.445e-7 for i in range(20)]\n",
    "x = np.array(x)\n",
    "y = np.array([1 for i in x])\n",
    "plot(x,y,'ro',zorder = 3)\n",
    "xeq = np.linspace(0,x[-1],len(x))\n",
    "plot(xeq,y*2,'o',zorder = 4,color = 'yellow')\n",
    "grid(which = 'major',linestyle = '-',color = 'gray')\n",
    "grid(which = 'minor',linestyle = '--',color = 'gray')\n",
    "xscale('log')\n",
    "ylim(.5,2.5)\n",
    "print xeq[1]-xeq[0]"
   ]
  }
 ],
 "metadata": {
  "kernelspec": {
   "display_name": "Python 2",
   "language": "python",
   "name": "python2"
  },
  "language_info": {
   "codemirror_mode": {
    "name": "ipython",
    "version": 2
   },
   "file_extension": ".py",
   "mimetype": "text/x-python",
   "name": "python",
   "nbconvert_exporter": "python",
   "pygments_lexer": "ipython2",
   "version": "2.7.15"
  }
 },
 "nbformat": 4,
 "nbformat_minor": 4
}
