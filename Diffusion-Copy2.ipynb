{
 "cells": [
  {
   "cell_type": "markdown",
   "metadata": {},
   "source": [
    "##From [2013-12-03-Crank_Nicolson](http://nbviewer.ipython.org/github/waltherg/notebooks/blob/master/2013-12-03-Crank_Nicolson.ipynb)"
   ]
  },
  {
   "cell_type": "code",
   "execution_count": 1,
   "metadata": {
    "collapsed": false,
    "jupyter": {
     "outputs_hidden": false
    }
   },
   "outputs": [
    {
     "name": "stdout",
     "output_type": "stream",
     "text": [
      "Populating the interactive namespace from numpy and matplotlib\n"
     ]
    }
   ],
   "source": [
    "import numpy\n",
    "%pylab inline\n",
    "import matplotlib as mpl\n",
    "mpl.rc(\"savefig\", dpi=120)\n",
    "import os\n",
    "from scipy.interpolate import interp1d"
   ]
  },
  {
   "cell_type": "code",
   "execution_count": 2,
   "metadata": {
    "collapsed": false,
    "jupyter": {
     "outputs_hidden": false
    }
   },
   "outputs": [],
   "source": [
    "numpy.set_printoptions(precision=3)"
   ]
  },
  {
   "cell_type": "code",
   "execution_count": 3,
   "metadata": {},
   "outputs": [],
   "source": [
    "def plot_profiles(U_record,t_grid,x_grid,nn = 10,save = 0):\n",
    "    plt.xlabel('x'); plt.ylabel('concentration')\n",
    "    tt = np.linspace(0+T/float(nn),T-T/float(nn),nn)\n",
    "    plot(x_grid, U_record[0],'k.',label = 't = %.1f'% t_grid[0],lw = 2)\n",
    "    color_idx = np.linspace(0,1,nn)\n",
    "    for ij, t1 in enumerate(tt):\n",
    "        plot(x_grid, U_record[int(t1/dt)],\n",
    "             label = 't = %.2f'% t_grid[int(t1/dt)],\n",
    "             color=plt.cm.jet(color_idx[ij]))\n",
    "\n",
    "    plot(x_grid, U_record[-1],'k--',label = 't = %.1f'% t_grid[-1],lw = 2)\n",
    "    #legend(framealpha = 0.8)\n",
    "    margins(0.1)\n",
    "    pth = os.path.join(os.path.expanduser('~'),'Desktop','diff_profile%s.png'%suffix)\n",
    "    if save: plt.savefig(pth,bbox_inches = 'tight', dpi = 300)\n",
    "    else: plt.show()\n",
    "    return\n",
    "\n",
    "def plot_fluxes(U_record,t_grid,save=0):\n",
    "    U_r = np.array(U_record)\n",
    "    try: \n",
    "        plot(t_grid,U_r[:,-1]**2*k_d,label = 'out')\n",
    "    except:\n",
    "        plot(t_grid,U_r[1]**2*k_d,label = 'out')\n",
    "    #plot(t_grid,U_r[:,0]**2*k_u,label = 'input')\n",
    "    legend(framealpha = 0.8)\n",
    "    plt.margins(0.1)\n",
    "    pth = os.path.join(os.path.expanduser('~'),'Desktop','diff_fluxes%s.png'%suffix)\n",
    "    if save: plt.savefig(pth,bbox_inches = 'tight', dpi = 300)\n",
    "    else: plt.show()\n",
    "    return"
   ]
  },
  {
   "cell_type": "code",
   "execution_count": 4,
   "metadata": {
    "collapsed": false,
    "jupyter": {
     "outputs_hidden": false
    }
   },
   "outputs": [],
   "source": [
    "def run(g_inc,U,D,k_u,k_d,sigma):\n",
    "    ff = interp1d(g_inc[:,0],g_inc[:,1])\n",
    "    g_inc = ff(t_grid)\n",
    "\n",
    "    def f_vec(U,ti):\n",
    "        upstream =  -D/(2.*k_u*dx) + \\\n",
    "        0.5*sqrt((D/(k_u*dx))**2 + 4*D*U[1]/(k_u*dx) + 4*g_inc[ti-1]/k_u)\n",
    "        downstream = -D/(2.*k_d*dx) + \\\n",
    "        0.5*sqrt((D/(k_d*dx))**2 + 4*D*U[-2]/(k_d*dx))\n",
    "        vivec = np.array([0. for ii in range(J)])\n",
    "        vivec[0] = upstream; vivec[-1] = downstream\n",
    "        return vivec\n",
    "\n",
    "    A = numpy.diagflat([-sigma for i in range(J-1-1)]+[0.], -1) +\\\n",
    "          numpy.diagflat([1.]+[1.+2.*sigma for i in range(J-2)]+[1.]) +\\\n",
    "          numpy.diagflat([0.]+[-sigma for i in range(J-1-1)], 1)\n",
    "\n",
    "    B = numpy.diagflat([sigma for i in range(J-1-1)]+[0.], -1) +\\\n",
    "          numpy.diagflat([0.]+[1.-2.*sigma for i in range(J-2)]+[0.]) +\\\n",
    "          numpy.diagflat([0.]+[sigma for i in range(J-1-1)], 1)\n",
    "\n",
    "    U_record = []\n",
    "    U_record.append(U)\n",
    "    #U_record.append([U[0],U[-1]])\n",
    "    for ti in range(1,N):\n",
    "        #U_new = tridag(a,b,c,np.dot(B_u,U)+ff) # my tridiag method\n",
    "        U_new = numpy.linalg.solve(A, B.dot(U)+f_vec(U,ti)) #numpy Gauss\n",
    "        U = U_new\n",
    "        U_record.append(U)\n",
    "        #U_record.append([U[0],U[-1]])\n",
    "    return U_record"
   ]
  },
  {
   "cell_type": "code",
   "execution_count": 5,
   "metadata": {
    "collapsed": false,
    "jupyter": {
     "outputs_hidden": false
    }
   },
   "outputs": [
    {
     "name": "stdout",
     "output_type": "stream",
     "text": [
      "9.001e-02:\tdt\n",
      "2.517e+01:\tsigma\n"
     ]
    },
    {
     "data": {
      "image/png": "[encoded data removed]",
      "text/plain": [
       "<Figure size 432x288 with 1 Axes>"
      ]
     },
     "metadata": {
      "needs_background": "light"
     },
     "output_type": "display_data"
    },
    {
     "data": {
      "image/png": "[encoded data removed]",
      "text/plain": [
       "<Figure size 432x288 with 1 Axes>"
      ]
     },
     "metadata": {
      "needs_background": "light"
     },
     "output_type": "display_data"
    }
   ],
   "source": [
    "L = 20e-6;'m'; J = 10\n",
    "T = 900;'sec'; N = 10000\n",
    "\n",
    "dx = float(L)/float(J-1) # Grid step\n",
    "x_grid = numpy.array([j*dx for j in range(J)]) # Spatial Grid\n",
    "dt = float(T)/float(N-1) # Time step\n",
    "t_grid = numpy.array([n*dt for n in range(N)]) # Time grid\n",
    "print '%.3e:\\tdt'% dt\n",
    "T_membrane = 573.0\n",
    "D=2.9e-7*exp(-0.23*1.6e-19/(1.38e-23*T_membrane)) # Diffusion coeffitient for U\n",
    "sigma = float(D*dt)/float((2.*dx*dx))\n",
    "print '%.3e:\\tsigma'% sigma\n",
    "k_u = 1e-31; k_d = 1e-32\n",
    "suffix = '_%.0e_s'%dt\n",
    "U = np.array([0.0 for i in range(J)])\n",
    "end = 500.; flux = 1e18\n",
    "g_inc = np.array([[-1,0],[0,0],[0.01,flux],[end,flux],[end+1,0],[901,0]])\n",
    "\n",
    "#%prun\n",
    "U_record = run(g_inc,U,D,k_u,k_d,sigma)\n",
    "plot_fluxes(U_record,t_grid,save=0)\n",
    "plot_profiles(U_record,t_grid,x_grid,nn = 100,save = 1)"
   ]
  }
 ],
 "metadata": {
  "kernelspec": {
   "display_name": "Python 2",
   "language": "python",
   "name": "python2"
  },
  "language_info": {
   "codemirror_mode": {
    "name": "ipython",
    "version": 2
   },
   "file_extension": ".py",
   "mimetype": "text/x-python",
   "name": "python",
   "nbconvert_exporter": "python",
   "pygments_lexer": "ipython2",
   "version": "2.7.15"
  }
 },
 "nbformat": 4,
 "nbformat_minor": 4
}
