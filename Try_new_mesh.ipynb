{
 "cells": [
  {
   "cell_type": "code",
   "execution_count": 1,
   "metadata": {
    "collapsed": false,
    "jupyter": {
     "outputs_hidden": false
    }
   },
   "outputs": [
    {
     "name": "stdout",
     "output_type": "stream",
     "text": [
      "Populating the interactive namespace from numpy and matplotlib\n"
     ]
    }
   ],
   "source": [
    "import numpy\n",
    "%pylab inline\n",
    "import matplotlib as mpl\n",
    "mpl.rc(\"savefig\", dpi=120)\n",
    "import os\n",
    "from scipy.interpolate import interp1d"
   ]
  },
  {
   "cell_type": "code",
   "execution_count": 2,
   "metadata": {},
   "outputs": [],
   "source": [
    "def run(g_inc,U,D,k_u,k_d,sigma):\n",
    "    ff = interp1d(g_inc[:,0],g_inc[:,1])\n",
    "    g_inc = ff(t_grid)\n",
    "\n",
    "    def f_vec(U,ti):\n",
    "        upstream =  -D/(2.*k_u*dx) + \\\n",
    "        0.5*sqrt((D/(k_u*dx))**2 + 4*D*U[1]/(k_u*dx) + 4*g_inc[ti-1]/k_u)\n",
    "        downstream = -D/(2.*k_d*dx) + \\\n",
    "        0.5*sqrt((D/(k_d*dx))**2 + 4*D*U[-2]/(k_d*dx))\n",
    "        vivec = np.array([0. for ii in range(J)])\n",
    "        vivec[0] = upstream; vivec[-1] = downstream\n",
    "        return vivec\n",
    "\n",
    "    A = numpy.diagflat([-sigma for i in range(J-1-1)]+[0.], -1) +\\\n",
    "          numpy.diagflat([1.]+[1.+2.*sigma for i in range(J-2)]+[1.]) +\\\n",
    "          numpy.diagflat([0.]+[-sigma for i in range(J-1-1)], 1)\n",
    "\n",
    "    B = numpy.diagflat([sigma for i in range(J-1-1)]+[0.], -1) +\\\n",
    "          numpy.diagflat([0.]+[1.-2.*sigma for i in range(J-2)]+[0.]) +\\\n",
    "          numpy.diagflat([0.]+[sigma for i in range(J-1-1)], 1)\n",
    "\n",
    "    U_record = []\n",
    "    U_record.append(U)\n",
    "    #U_record.append([U[0],U[-1]])\n",
    "    for ti in range(1,N):\n",
    "        #U_new = tridag(a,b,c,np.dot(B_u,U)+ff) # my tridiag method\n",
    "        U_new = numpy.linalg.solve(A, B.dot(U)+f_vec(U,ti)) #numpy Gauss\n",
    "        U = U_new\n",
    "        U_record.append(U)\n",
    "        #U_record.append([U[0],U[-1]])\n",
    "    return U_record"
   ]
  },
  {
   "cell_type": "code",
   "execution_count": 3,
   "metadata": {
    "collapsed": false,
    "jupyter": {
     "outputs_hidden": false
    }
   },
   "outputs": [
    {
     "name": "stdout",
     "output_type": "stream",
     "text": [
      "9.001e-02:\tdt\n",
      "2.517e+01:\tsigma\n"
     ]
    },
    {
     "data": {
      "text/plain": [
       "<matplotlib.legend.Legend at 0x1fb2fef0>"
      ]
     },
     "execution_count": 3,
     "metadata": {},
     "output_type": "execute_result"
    },
    {
     "data": {
      "image/png": "[encoded data removed]",
      "text/plain": [
       "<Figure size 432x288 with 1 Axes>"
      ]
     },
     "metadata": {
      "needs_background": "light"
     },
     "output_type": "display_data"
    }
   ],
   "source": [
    "L = 20e-6;'m'; J = 10\n",
    "T = 900;'sec'; N = 10000\n",
    "\n",
    "dx = float(L)/float(J-1) # Grid step\n",
    "x_grid = numpy.array([j*dx for j in range(J)]) # Spatial Grid\n",
    "dt = float(T)/float(N-1) # Time step\n",
    "t_grid = numpy.array([n*dt for n in range(N)]) # Time grid\n",
    "print '%.3e:\\tdt'% dt\n",
    "T_membrane = 573.0\n",
    "D=2.9e-7*exp(-0.23*1.6e-19/(1.38e-23*T_membrane)) # Diffusion coeffitient for U\n",
    "sigma = float(D*dt)/float((2.*dx*dx))\n",
    "print '%.3e:\\tsigma'% sigma\n",
    "k_u = 1e-31; k_d = 1e-32\n",
    "suffix = '_%.0e_s'%dt\n",
    "U = np.array([0.0 for i in range(J)])\n",
    "end = 500.; flux = 1e18\n",
    "g_inc = np.array([[-1,0],[0,0],[0.01,flux],[end,flux],[end+1,0],[901,0]])\n",
    "U_record = run(g_inc,U,D,k_u,k_d,sigma)\n",
    "Ur = np.array(U_record)\n",
    "U_record=0\n",
    "\n",
    "plot(t_grid,Ur[:,0]**2*k_u,label = 'in')\n",
    "plot(t_grid,Ur[:,-1]**2*k_d,label = 'out')\n",
    "legend()"
   ]
  }
 ],
 "metadata": {
  "kernelspec": {
   "display_name": "Python 2",
   "language": "python",
   "name": "python2"
  },
  "language_info": {
   "codemirror_mode": {
    "name": "ipython",
    "version": 2
   },
   "file_extension": ".py",
   "mimetype": "text/x-python",
   "name": "python",
   "nbconvert_exporter": "python",
   "pygments_lexer": "ipython2",
   "version": "2.7.15"
  }
 },
 "nbformat": 4,
 "nbformat_minor": 4
}
