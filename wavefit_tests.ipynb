{
 "cells": [
  {
   "cell_type": "markdown",
   "metadata": {},
   "source": [
    "# Dev for incident flux fit using my `BE`\n",
    "I think it is Crank-Nicolson Method.<br>\n",
    "`time.clock()` deprecated in python 3. Updated to `time.perf_counter()`.\n",
    "## Works with Python 3.7. 2020/07/09."
   ]
  },
  {
   "cell_type": "code",
   "execution_count": 1,
   "metadata": {},
   "outputs": [
    {
     "name": "stdout",
     "output_type": "stream",
     "text": [
      "Populating the interactive namespace from numpy and matplotlib\n"
     ]
    }
   ],
   "source": [
    "%pylab inline"
   ]
  },
  {
   "cell_type": "code",
   "execution_count": 2,
   "metadata": {
    "collapsed": false,
    "jupyter": {
     "outputs_hidden": false
    }
   },
   "outputs": [],
   "source": [
    "import time"
   ]
  },
  {
   "cell_type": "code",
   "execution_count": 3,
   "metadata": {},
   "outputs": [],
   "source": [
    "np.set_printoptions(precision=3)"
   ]
  },
  {
   "cell_type": "code",
   "execution_count": 4,
   "metadata": {},
   "outputs": [],
   "source": [
    "from scipy.sparse import diags\n",
    "from scipy.sparse.linalg import spsolve\n",
    "from scipy.interpolate import interp1d\n",
    "def BE(**kwargs):\n",
    "    Nx=kwargs.pop('Nx',30);Nt=kwargs.pop('Nt',100);T=kwargs.pop('T',None)\n",
    "    D=kwargs.pop('D',1.1e-8);I=kwargs.pop('I',None);G=kwargs.pop('G',None)\n",
    "    ku=kwargs.pop('ku',None);kd=kwargs.pop('kd',None);ks=kwargs.pop('ks',None)\n",
    "    L=kwargs.pop('L',2e-5);PLOT=kwargs.pop('PLOT',False)\n",
    "    saveU=kwargs.pop('saveU',None);Uinit=kwargs.pop('Uinit',None)\n",
    "#------------------------------------------------------------------------------ \n",
    "    ku = 2*ku; kd = 2*kd # if this is applied, result is same with TMAP7. Why?\n",
    "#------------------------------------------------------------------------------    \n",
    "    G = G*ks\n",
    "    if len(np.where(G<0)[0]): \n",
    "        return {'time':np.linspace(0,T,Nt+1),'pdp':np.zeros(Nt+1)}\n",
    "    start = time.perf_counter()\n",
    "    x = np.linspace(0, L, Nx+1)       # mesh points in space\n",
    "    t = np.linspace(0, T, Nt+1)       # mesh points in time\n",
    "    if I: u_1 = np.array([I(i) for i in x]) # initial concentration\n",
    "    else: u_1 = np.copy(Uinit)\n",
    "    dx=x[1]-x[0]; dt=t[1]-t[0]\n",
    "    F = D*dt/dx**2\n",
    "    inlet = []; outlet = []\n",
    "    inlet.append(ku*u_1[0]**2)\n",
    "    outlet.append(kd*u_1[Nx]**2)\n",
    "    u = np.zeros(Nx+1)\n",
    "    if saveU: Usave = np.zeros((Nt+1,Nx+1),float)\n",
    "    if saveU: Usave[0] = u_1\n",
    "    if PLOT: plt.plot(x/1e-6,u_1,'k-',lw=4)\n",
    "    color_idx = np.linspace(0,1,Nt)\n",
    "    teta1 = D/(ku*dx)\n",
    "    teta2 = D/(kd*dx)\n",
    "    for n in range(0, Nt):\n",
    "        #calculate u[1] and u[Nx-1] using explicit stencil\n",
    "        g0 = F*u_1[0]+(1-2*F)*u_1[1]+F*u_1[2]\n",
    "        gL = F*u_1[Nx-2]+(1-2*F)*u_1[Nx-1]+F*u_1[Nx]\n",
    "        #put 1 for u[0] and u[Nx-1] in A\n",
    "        A = diags(diagonals = \n",
    "                  [[0]+[-F for i in range(Nx-1)],\n",
    "                  [1]+[1.+2.*F for i in range(Nx-1)]+[1],\n",
    "                  [-F for i in range(Nx-1)]+[0]],\n",
    "                  offsets=[1, 0, -1],shape=(Nx+1, Nx+1),format='csr')\n",
    "        #in the b (for BE) put roots of the quadratic equation for the border.\n",
    "        b = np.array([-teta1/2.+0.5*np.sqrt(teta1**2+4*teta1*g0+4*G[n]/ku)] +\\\n",
    "                     [i for i in u_1[1:Nx]]+\\\n",
    "                     [-teta2/2.+0.5*np.sqrt(teta2**2+4*teta2*gL)])\n",
    "        #solve SLE\n",
    "        u[:] = spsolve(A,b)\n",
    "        u'Instead of u**2 put u*a, where a - u from previous step'\n",
    "        for _ in range(3):\n",
    "            a0 = u[0]; aL = u[Nx]\n",
    "            A = diags(diagonals = \n",
    "                      [[-D/dx]+[-F for i in range(Nx-1)],\n",
    "                       [D/dx+ku*a0]+[1.+2.*F for i in range(Nx-1)]+[D/dx+kd*aL],\n",
    "                       [-F for i in range(Nx-1)]+[-D/dx]],\n",
    "                      offsets=[1, 0, -1],shape=(Nx+1, Nx+1),format='csr')\n",
    "            b = np.array([G[n]] +\\\n",
    "                         [i for i in u_1[1:Nx]]+\\\n",
    "                         [0])\n",
    "            u[:] = spsolve(A,b)                   \n",
    "        u_1, u = u, u_1\n",
    "        inlet.append(ku*u_1[0]**2)\n",
    "        outlet.append(kd*u_1[Nx]**2)\n",
    "        if PLOT: plt.plot(x/1e-6,u_1,'.-',color = plt.cm.jet(color_idx[n])) # @UndefinedVariable\n",
    "        if saveU: Usave[n+1] = u_1\n",
    "        \n",
    "    if PLOT:\n",
    "        font = {'family':'Times New Roman','weight':'heavy','size': 25}\n",
    "        plt.rc('font',**font)\n",
    "        plt.rcParams.update({'mathtext.default':  'regular' })\n",
    "        ax = plt.gca()\n",
    "        ax.set_xlim(0,L/1e-6)\n",
    "        ax.set_xlabel('x ($\\mu m$)',fontweight = 'heavy')\n",
    "        ax.set_ylabel('concentration ($m^{-3}$)',fontweight = 'heavy')\n",
    "        sf = os.path.join(os.path.expanduser('~'),\n",
    "                          'Desktop','Stencils','concentraion.png')# %(F))\n",
    "        plt.savefig(sf,dpi = 300, bbox_inches = 'tight')\n",
    "    end = time.perf_counter()\n",
    "    result = dict()\n",
    "    result.update([('reflected',inlet),('pdp',outlet),('time',t),\n",
    "                   ('concentration',u_1),('calctime',end-start)\n",
    "                   ])\n",
    "    if saveU: return Usave, [t,outlet]\n",
    "    else: return result"
   ]
  },
  {
   "cell_type": "code",
   "execution_count": 5,
   "metadata": {},
   "outputs": [],
   "source": [
    "def parameters():\n",
    "    u'''initial parameters for the fit'''\n",
    "    Nx=30;Nt=100;T=1000.;Tend=705.;D=1.1e-8;L=2e-5;ku=1e-33;kd=2e-33;ks=1e19\n",
    "    PLOT=False;Uinit=np.zeros(Nx+1);G=np.zeros(Nt+1);I=None\n",
    "    kwargs = dict()\n",
    "    kwargs.update([('Nx',Nx),('Nt',Nt),('T',T),('D',D),('Tend',Tend),('L',L),\n",
    "                   ('I',I),('G',G),('ku',ku),('kd',kd),('ks',ks),('PLOT',PLOT),\n",
    "                   ('Uinit',Uinit)\n",
    "                   ])\n",
    "    return kwargs  "
   ]
  },
  {
   "cell_type": "code",
   "execution_count": 6,
   "metadata": {
    "collapsed": false,
    "jupyter": {
     "outputs_hidden": false
    }
   },
   "outputs": [
    {
     "name": "stdout",
     "output_type": "stream",
     "text": [
      "12.0\n",
      "[1.048]\n"
     ]
    },
    {
     "data": {
      "image/png": "[encoded data removed]",
      "text/plain": [
       "<Figure size 432x288 with 1 Axes>"
      ]
     },
     "metadata": {
      "needs_background": "light"
     },
     "output_type": "display_data"
    }
   ],
   "source": [
    "pm = parameters()\n",
    "Nt=pm.get('Nt');Nx=pm.get('Nx');T=pm.get('T');Tend=pm.get('Tend')\n",
    "Nt = 100; T = 1200.; Tend = 800.\n",
    "tm = np.linspace(0, T, Nt+1)\n",
    "dt = tm[1]-tm[0]\n",
    "print(dt)\n",
    "tend = int(Nt/T*Tend)-1\n",
    "G = np.array([1+0.05*np.sin(ll*.3) for ll in np.linspace(0,300,Nt+1)])\n",
    "G[tend:] = 0\n",
    "stp=1\n",
    "U = np.zeros(Nx+1)\n",
    "#[N*stp:N*stp+stp+1]\n",
    "R = range(Nt)\n",
    "R = range(100)\n",
    "clrs = np.linspace(0,1,len(R))\n",
    "for N in R:\n",
    "    Nt_stp = 1; T_stp = dt; Tend_stp = dt\n",
    "    tm = np.linspace(0, T_stp, Nt_stp+1)\n",
    "    G_stp = np.linspace(G[N*stp],G[N*stp+stp],Nt_stp)\n",
    "    pm.update([('G',G_stp),('T',T_stp),('Tend',Tend_stp),('Nt',Nt_stp),('Uinit',U)])\n",
    "    res = BE(**pm)\n",
    "    pdp = res.pop('pdp'); tm = res.pop('time')\n",
    "    U = res.pop('concentration')\n",
    "    plt.plot(tm+N*stp*dt,pdp,'.-',color=plt.cm.jet(clrs[N]))\n",
    "N = 30\n",
    "print(np.linspace(G[N*stp],G[N*stp+stp],Nt_stp))"
   ]
  },
  {
   "cell_type": "code",
   "execution_count": 7,
   "metadata": {
    "collapsed": false,
    "jupyter": {
     "outputs_hidden": false
    }
   },
   "outputs": [
    {
     "name": "stdout",
     "output_type": "stream",
     "text": [
      "1.0 10.0 5 100\n"
     ]
    },
    {
     "data": {
      "text/plain": [
       "(-0.1, 1.1)"
      ]
     },
     "execution_count": 7,
     "metadata": {},
     "output_type": "execute_result"
    },
    {
     "data": {
      "image/png": "[encoded data removed]",
      "text/plain": [
       "<Figure size 432x288 with 1 Axes>"
      ]
     },
     "metadata": {
      "needs_background": "light"
     },
     "output_type": "display_data"
    }
   ],
   "source": [
    "pm = parameters()\n",
    "Nt = pm.get('Nt',None)\n",
    "T = pm.get('T',None)\n",
    "G = np.zeros(Nt+1)\n",
    "tm = np.linspace(0,T,Nt+1)\n",
    "plot(tm,G,'o--')\n",
    "dt1 = 5\n",
    "dt = tm[1]-tm[0]\n",
    "stp = dt1//dt+1\n",
    "print(stp,dt,dt1,Nt)\n",
    "N = 0\n",
    "G[int(N*stp):int(N*stp+stp)] = 1\n",
    "plot(tm,G,'o-',mfc='none',mec='g',ms=9)\n",
    "xlim(-10,100)\n",
    "ylim(-.1,1.1)"
   ]
  },
  {
   "cell_type": "code",
   "execution_count": 8,
   "metadata": {
    "collapsed": false,
    "jupyter": {
     "outputs_hidden": false
    }
   },
   "outputs": [
    {
     "name": "stdout",
     "output_type": "stream",
     "text": [
      "negative\n"
     ]
    }
   ],
   "source": [
    "G[3] = -2\n",
    "if len(np.where(G<0)[0]): print('negative')"
   ]
  },
  {
   "cell_type": "code",
   "execution_count": 9,
   "metadata": {
    "collapsed": false,
    "jupyter": {
     "outputs_hidden": false
    }
   },
   "outputs": [
    {
     "name": "stdout",
     "output_type": "stream",
     "text": [
      "<class 'numpy.ndarray'>\n",
      "0.0\n",
      "[ 1.  0.  0. -2.  0.  0.  0.  0.  0.  0.]\n",
      "range(0, 1)\n"
     ]
    }
   ],
   "source": [
    "print(type(G))\n",
    "print(G[10])\n",
    "print(G[:10])\n",
    "print(range(0,1))"
   ]
  },
  {
   "cell_type": "code",
   "execution_count": 10,
   "metadata": {
    "collapsed": false,
    "jupyter": {
     "outputs_hidden": false
    }
   },
   "outputs": [
    {
     "name": "stdout",
     "output_type": "stream",
     "text": [
      "[ 1.  2.  3.  4.  5.  6.  7.  8.  9. 10.]\n",
      "[2.]\n"
     ]
    }
   ],
   "source": [
    "a = np.linspace(1,10,10)\n",
    "print(a)\n",
    "print(a[1:2])"
   ]
  }
 ],
 "metadata": {
  "kernelspec": {
   "display_name": "Python 3",
   "language": "python",
   "name": "python3"
  },
  "language_info": {
   "codemirror_mode": {
    "name": "ipython",
    "version": 3
   },
   "file_extension": ".py",
   "mimetype": "text/x-python",
   "name": "python",
   "nbconvert_exporter": "python",
   "pygments_lexer": "ipython3",
   "version": "3.7.2"
  }
 },
 "nbformat": 4,
 "nbformat_minor": 4
}
