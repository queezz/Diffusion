{
 "cells": [
  {
   "cell_type": "markdown",
   "metadata": {},
   "source": [
    "# Explicit central difference stencil\n",
    "Python `for` loops, too slow.\n",
    "\n",
    "Python 3 works, 2020/07/09."
   ]
  },
  {
   "cell_type": "code",
   "execution_count": 1,
   "metadata": {},
   "outputs": [
    {
     "name": "stdout",
     "output_type": "stream",
     "text": [
      "Populating the interactive namespace from numpy and matplotlib\n"
     ]
    }
   ],
   "source": [
    "%pylab inline"
   ]
  },
  {
   "cell_type": "code",
   "execution_count": 2,
   "metadata": {
    "collapsed": false,
    "jupyter": {
     "outputs_hidden": false
    }
   },
   "outputs": [],
   "source": [
    "from scipy.interpolate import interp1d\n",
    "import numpy as np\n",
    "import os"
   ]
  },
  {
   "cell_type": "code",
   "execution_count": 3,
   "metadata": {},
   "outputs": [],
   "source": [
    "np.set_printoptions(precision=3)"
   ]
  },
  {
   "cell_type": "code",
   "execution_count": 4,
   "metadata": {
    "collapsed": false,
    "jupyter": {
     "outputs_hidden": false
    }
   },
   "outputs": [
    {
     "data": {
      "text/plain": [
       "<Figure size 504x360 with 0 Axes>"
      ]
     },
     "metadata": {},
     "output_type": "display_data"
    }
   ],
   "source": [
    "font = {'family':'Times New Roman','weight':'heavy','size': 18}\n",
    "plt.rc('font',**font)\n",
    "plt.rcParams.update({'mathtext.default':  'regular' })\n",
    "fig = plt.figure(figsize = (7,5),facecolor='w')  "
   ]
  },
  {
   "cell_type": "markdown",
   "metadata": {},
   "source": [
    "# Explicit central difference stencil\n",
    "Definicions:\n",
    "$$t_n = n \\Delta t,~ n = 0, \\ldots, N-1,$$\n",
    "\n",
    "$$x_j = j \\Delta x,~ j = 0, \\ldots, J-1,$$\n",
    "<br>\n",
    "\n",
    "<font color = 'blue'> \n",
    "$$\n",
    "U_j^{n+1} = U_j^{n} + \\frac{D\\Delta t}{\\Delta x^2}(U_{i+1}^n-2U_{i}^n+U_{i-1}^n)\n",
    "$$\n",
    "<br>\n",
    "$$\n",
    "U_0^{n+1} = -\\frac{D}{2k_u\\Delta x} + \\frac{1}{2} \\sqrt{\\Big(\\frac{D}{k_u \\Delta x}\\Big)^2 + \\frac{4DU_1^n}{k_u \\Delta x} + \\frac{4\\Gamma_{inc}^n}{k_u}}\n",
    "$$\n",
    "<br>\n",
    "$$\n",
    "U_{J-1}^{n+1} = -\\frac{D}{2k_d\\Delta x} + \\frac{1}{2} \\sqrt{\\Big(\\frac{D}{k_d \\Delta x}\\Big)^2 + \\frac{4DU_{J-2}^n}{k_d \\Delta x}}\n",
    "$$\n",
    "</font>"
   ]
  },
  {
   "cell_type": "code",
   "execution_count": 5,
   "metadata": {
    "collapsed": false,
    "jupyter": {
     "outputs_hidden": false
    }
   },
   "outputs": [],
   "source": [
    "def timestep(Un,h,c,D,ku,kd,F=0):\n",
    "    '''Un - concentration profile on the previous time step\n",
    "    h - coordinate step, c - time step\n",
    "    D - diffusion coefficient, ku,kd - recombination coeff. upstream/downstream\n",
    "    '''\n",
    "    Unew = [Un[ij]*(1-2*D*c/h**2) + D*c/h**2*(Un[ij+1]+Un[ij-1]) for ij, u in enumerate(Un[1:-1])]\n",
    "    upstream = [-D/(2*ku*h)+0.5*((D/(ku*h))**2 + 4*D*Un[1]/(ku*h)+4*F/ku)**0.5]\n",
    "    downstream = [-D/(2*kd*h)+0.5*((D/(kd*h))**2 + 4*D*Un[-2]/(kd*h))**0.5]\n",
    "    return upstream + Unew + downstream"
   ]
  },
  {
   "cell_type": "code",
   "execution_count": 13,
   "metadata": {
    "collapsed": false,
    "jupyter": {
     "outputs_hidden": false
    }
   },
   "outputs": [
    {
     "name": "stdout",
     "output_type": "stream",
     "text": [
      "8.023e-05:\tdt\n",
      "1.25e+05:\tN\n",
      "1.000e-01:\tsigma\n"
     ]
    }
   ],
   "source": [
    "L = 20e-6;'m'\n",
    "T = 10;'sec'\n",
    "ku = 1e-28; kd = 1e-25\n",
    "T_membrane = 573.0\n",
    "D=2.9e-7*np.exp(-0.23*1.6e-19/(1.38e-23*T_membrane)) # Diffusion coeffitient for U\n",
    "\n",
    "J = 20 ;'length'\n",
    "dx = float(L)/float(J-1) # Grid step\n",
    "x_grid = np.array([j*dx for j in range(J)]) # Spatial Grid\n",
    "\n",
    "sigma = 1e-1\n",
    "dt = sigma*2.*dx**2/D\n",
    "print('%.3e:\\tdt'% dt)\n",
    "N = int(T/dt)\n",
    "print('%.2e:\\tN'%N)\n",
    "print('%.3e:\\tsigma'% sigma)\n",
    "t_grid = np.array([n*dt for n in range(N)]) # Time grid\n",
    "\n",
    "suffix = '_%.0e_s'%dt\n",
    "U = np.array([0.0 for i in range(J)])\n",
    "\n",
    "out = []\n",
    "gin = []\n",
    "\n",
    "end = T*0.8; flux = 1e18\n",
    "g_inc = np.array([[-1,0],[0,0],[0.01,flux],[end,flux],[end+.01*end,0],[T+.1*T,0]])\n",
    "ff = interp1d(g_inc[:,0],g_inc[:,1])\n",
    "F = ff(t_grid)\n",
    "Un = U\n",
    "#plot(x_grid/L,Un,'ko')\n",
    "N_run = N\n",
    "color_idx = np.linspace(0,1,N_run)\n",
    "for i in range(N_run):\n",
    "    z = timestep(Un,dx,dt,D,ku,kd, F = F[i])\n",
    "    out.append(z[-1]**2*kd)\n",
    "    gin.append(z[0]**2*ku)\n",
    "    Un = z"
   ]
  },
  {
   "cell_type": "code",
   "execution_count": 7,
   "metadata": {
    "collapsed": false,
    "jupyter": {
     "outputs_hidden": false
    }
   },
   "outputs": [
    {
     "data": {
      "text/plain": [
       "[<matplotlib.lines.Line2D at 0x217c439b400>]"
      ]
     },
     "execution_count": 7,
     "metadata": {},
     "output_type": "execute_result"
    },
    {
     "data": {
      "image/png": "[encoded data removed]",
      "text/plain": [
       "<Figure size 432x288 with 1 Axes>"
      ]
     },
     "metadata": {
      "needs_background": "light"
     },
     "output_type": "display_data"
    }
   ],
   "source": [
    "t = len(gin)\n",
    "plot(t_grid[:t],gin)"
   ]
  },
  {
   "cell_type": "code",
   "execution_count": 8,
   "metadata": {
    "collapsed": false,
    "jupyter": {
     "outputs_hidden": false
    }
   },
   "outputs": [
    {
     "data": {
      "text/plain": [
       "[<matplotlib.lines.Line2D at 0x217c480b908>]"
      ]
     },
     "execution_count": 8,
     "metadata": {},
     "output_type": "execute_result"
    },
    {
     "data": {
      "image/png": "[encoded data removed]",
      "text/plain": [
       "<Figure size 432x288 with 1 Axes>"
      ]
     },
     "metadata": {
      "needs_background": "light"
     },
     "output_type": "display_data"
    }
   ],
   "source": [
    "t = len(out)\n",
    "plot(t_grid[:t],out)"
   ]
  },
  {
   "cell_type": "code",
   "execution_count": 9,
   "metadata": {
    "collapsed": false,
    "jupyter": {
     "outputs_hidden": false
    }
   },
   "outputs": [
    {
     "name": "stdout",
     "output_type": "stream",
     "text": [
      "[0. 1. 2. 3. 4. 5.] [0. 0. 0. 0. 0. 0.] [1. 2. 3. 4.] 5.0\n"
     ]
    }
   ],
   "source": [
    "u0 = np.array([0.,1.,2.,3.,4.,5.])\n",
    "u1 = np.zeros(len(u0))\n",
    "print(u0, u1, u0[1:-1], u0[-1])"
   ]
  },
  {
   "cell_type": "code",
   "execution_count": 10,
   "metadata": {
    "collapsed": false,
    "jupyter": {
     "outputs_hidden": false
    }
   },
   "outputs": [
    {
     "data": {
      "text/plain": [
       "[<matplotlib.lines.Line2D at 0x217c4881f28>]"
      ]
     },
     "execution_count": 10,
     "metadata": {},
     "output_type": "execute_result"
    },
    {
     "data": {
      "image/png": "[encoded data removed]",
      "text/plain": [
       "<Figure size 432x288 with 1 Axes>"
      ]
     },
     "metadata": {
      "needs_background": "light"
     },
     "output_type": "display_data"
    }
   ],
   "source": [
    "ku = np.linspace(1e-35,1e-25,100)\n",
    "y = -1/(2*ku*1)+0.5*((1/(ku*1))**2 + 4*1*1/(ku*1)+4*1/ku)**0.5\n",
    "plot(y,'.')"
   ]
  }
 ],
 "metadata": {
  "kernelspec": {
   "display_name": "Python 3",
   "language": "python",
   "name": "python3"
  },
  "language_info": {
   "codemirror_mode": {
    "name": "ipython",
    "version": 3
   },
   "file_extension": ".py",
   "mimetype": "text/x-python",
   "name": "python",
   "nbconvert_exporter": "python",
   "pygments_lexer": "ipython3",
   "version": "3.7.2"
  }
 },
 "nbformat": 4,
 "nbformat_minor": 4
}
