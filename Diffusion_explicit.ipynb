{
 "cells": [
  {
   "cell_type": "code",
   "execution_count": 1,
   "metadata": {
    "collapsed": false,
    "jupyter": {
     "outputs_hidden": false
    }
   },
   "outputs": [
    {
     "name": "stdout",
     "output_type": "stream",
     "text": [
      "Populating the interactive namespace from numpy and matplotlib\n"
     ]
    }
   ],
   "source": [
    "import numpy\n",
    "%pylab inline\n",
    "import matplotlib as mpl\n",
    "mpl.rc(\"savefig\", dpi=120)\n",
    "import os\n",
    "from scipy.interpolate import interp1d"
   ]
  },
  {
   "cell_type": "code",
   "execution_count": 2,
   "metadata": {},
   "outputs": [],
   "source": [
    "def plot_profiles(U_record,t_grid,x_grid,nn = 10,save = 0):\n",
    "    plt.xlabel('x'); plt.ylabel('concentration')\n",
    "    tt = np.linspace(0+T/float(nn),T-T/float(nn),nn)\n",
    "    plot(x_grid, U_record[0],'k.',label = 't = %.1f'% t_grid[0],lw = 2)\n",
    "    color_idx = np.linspace(0,1,nn)\n",
    "    for ij, t1 in enumerate(tt):\n",
    "        plot(x_grid, U_record[int(t1/dt)],\n",
    "             label = 't = %.2f'% t_grid[int(t1/dt)],\n",
    "             color=plt.cm.jet(color_idx[ij]))\n",
    "\n",
    "    plot(x_grid, U_record[-1],'k--',label = 't = %.1f'% t_grid[-1],lw = 2)\n",
    "    #legend(framealpha = 0.8)\n",
    "    margins(0.1)\n",
    "    pth = os.path.join(os.path.expanduser('~'),'Desktop','diff_profile%s.png'%suffix)\n",
    "    if save: plt.savefig(pth,bbox_inches = 'tight', dpi = 300)\n",
    "    else: plt.show()\n",
    "    return\n",
    "\n",
    "def plot_fluxes(U_record,t_grid,save=0):\n",
    "    U_r = np.array(U_record)\n",
    "    try: \n",
    "        plot(t_grid,U_r[:,-1]**2*k_d,label = 'out')\n",
    "    except:\n",
    "        plot(t_grid,U_r[1]**2*k_d,label = 'out')\n",
    "    #plot(t_grid,U_r[:,0]**2*k_u,label = 'input')\n",
    "    legend(framealpha = 0.8)\n",
    "    plt.margins(0.1)\n",
    "    pth = os.path.join(os.path.expanduser('~'),'Desktop','diff_fluxes%s.png'%suffix)\n",
    "    if save: plt.savefig(pth,bbox_inches = 'tight', dpi = 300)\n",
    "    else: plt.show()\n",
    "    return"
   ]
  },
  {
   "cell_type": "code",
   "execution_count": 3,
   "metadata": {
    "collapsed": false,
    "jupyter": {
     "outputs_hidden": false
    }
   },
   "outputs": [],
   "source": [
    "def run(U,g_inc):\n",
    "    '''explicit method'''\n",
    "    ff = interp1d(g_inc[:,0],g_inc[:,1])\n",
    "    g_inc = ff(t_grid)\n",
    "    def f_vec(U,ti):\n",
    "        upstream =  -D/(2.*k_u*dx) + \\\n",
    "        0.5*sqrt((D/(k_u*dx))**2 + 4*D*U[1]/(k_u*dx) + 4*g_inc[ti-1]/k_u)\n",
    "        downstream = -D/(2.*k_d*dx) + \\\n",
    "        0.5*sqrt((D/(k_d*dx))**2 + 4*D*U[-2]/(k_d*dx))\n",
    "        vivec = np.array([0. for ii in range(J)])\n",
    "        vivec[0] = upstream; vivec[-1] = downstream\n",
    "        return vivec\n",
    "\n",
    "    def un(U,tt):\n",
    "        U_new = np.zeros(len(U))\n",
    "        U_new[0] = f_vec(U,tt)[0]\n",
    "        U_new[-1] = f_vec(U,tt)[-1]\n",
    "        for jj in range(1,J-1):\n",
    "            U_new[jj] = (1-2*sigma)*U[jj] + sigma*U[jj+1] + sigma*U[jj-1]\n",
    "        return U_new\n",
    "    U_record = []\n",
    "    U_record.append(U)\n",
    "    for nn in range(1,N):\n",
    "        a = un(U,nn)\n",
    "        U = a\n",
    "        U_record.append(U)\n",
    "    return U_record"
   ]
  },
  {
   "cell_type": "code",
   "execution_count": 4,
   "metadata": {
    "collapsed": false,
    "jupyter": {
     "outputs_hidden": false
    }
   },
   "outputs": [
    {
     "name": "stdout",
     "output_type": "stream",
     "text": [
      "0.251701933807\n"
     ]
    },
    {
     "data": {
      "image/png": "[encoded data removed]",
      "text/plain": [
       "<Figure size 432x288 with 1 Axes>"
      ]
     },
     "metadata": {
      "needs_background": "light"
     },
     "output_type": "display_data"
    },
    {
     "data": {
      "image/png": "[encoded data removed]",
      "text/plain": [
       "<Figure size 432x288 with 1 Axes>"
      ]
     },
     "metadata": {
      "needs_background": "light"
     },
     "output_type": "display_data"
    }
   ],
   "source": [
    "L = 20e-6 # Material length\n",
    "J = 10 # Number of coordinate grid points\n",
    "dx = float(L)/float(J-1) # Grid parameter\n",
    "x_grid = numpy.array([j*dx for j in range(J)]) # Grid\n",
    "T = 900; N = 1000000 \n",
    "dt = float(T)/float(N-1) # Time step\n",
    "t_grid = numpy.array([n*dt for n in range(N)]) # Time grid\n",
    "T_membrane = 573.0\n",
    "D=2.9e-7*exp(-0.23*1.6e-19/(1.38e-23*T_membrane)) # Diffusion coeffitient for U\n",
    "sigma = float(D*dt)/float((2.*dx*dx))\n",
    "print sigma\n",
    "k_u = 1e-33; k_d = 1e-30\n",
    "suffix = '_%.0e_s'%dt\n",
    "U = np.array([0.0 for i in range(J)])\n",
    "g_inc = np.array([[-1,0],[0,0],[0.01,1e18],[300,1e18],[301,0],[901,0]])\n",
    "\n",
    "U_record = run(U,g_inc)\n",
    "plot_profiles(U_record,t_grid,x_grid,nn = 100,save = 0)\n",
    "plot_fluxes(U_record,t_grid,save=0)"
   ]
  }
 ],
 "metadata": {
  "kernelspec": {
   "display_name": "Python 2",
   "language": "python",
   "name": "python2"
  },
  "language_info": {
   "codemirror_mode": {
    "name": "ipython",
    "version": 2
   },
   "file_extension": ".py",
   "mimetype": "text/x-python",
   "name": "python",
   "nbconvert_exporter": "python",
   "pygments_lexer": "ipython2",
   "version": "2.7.15"
  }
 },
 "nbformat": 4,
 "nbformat_minor": 4
}
